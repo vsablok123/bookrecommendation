{
 "cells": [
  {
   "cell_type": "code",
   "execution_count": 30,
   "metadata": {},
   "outputs": [],
   "source": [
    "import requests\n",
    "import pandas as pd\n",
    "import datetime\n",
    "import numpy as np\n",
    "import itertools\n",
    "import os\n",
    "import pickle\n",
    "from sklearn.externals import joblib\n"
   ]
  },
  {
   "cell_type": "code",
   "execution_count": 7,
   "metadata": {},
   "outputs": [],
   "source": [
    "accident_dataset = pd.read_csv(\"C:/Users/sablo/original/CarAccidentPrediction/MyProject/model_Data.csv\")"
   ]
  },
  {
   "cell_type": "code",
   "execution_count": 9,
   "metadata": {},
   "outputs": [
    {
     "data": {
      "text/plain": [
       "'{\"longitude\": \"-82.74\", \"latitude\": \"27.87\", \"date\": \"02-08-2019 07:00\", \"temp\": \"62.1\", \"pres\": \"30.09\", \"humi\": \"93\", \"visibility\": \"10\", \"windspeed\": \"4.6\", \"weatherkeyword\": 0, \"roadfeature\": \"Traffic_Signal\"}'"
      ]
     },
     "execution_count": 9,
     "metadata": {},
     "output_type": "execute_result"
    }
   ],
   "source": [
    "import json\n",
    "data = {}\n",
    "data['longitude'] = \"-82.74\"\n",
    "data['latitude'] = \"27.87\"\n",
    "data['date'] = \"02-08-2019 07:00\"\n",
    "data['temp'] = \"62.1\"\n",
    "data['pres'] = \"30.09\"\n",
    "data['humi'] = \"93\"\n",
    "data['visibility'] = \"10\"\n",
    "data['windspeed'] = \"4.6\"\n",
    "data['weatherkeyword'] = 0\n",
    "data['roadfeature'] = \"Traffic_Signal\"\n",
    "json_data = json.dumps(data)\n",
    "json_data"
   ]
  },
  {
   "cell_type": "code",
   "execution_count": 11,
   "metadata": {},
   "outputs": [
    {
     "data": {
      "text/plain": [
       "<Response [500]>"
      ]
     },
     "execution_count": 11,
     "metadata": {},
     "output_type": "execute_result"
    }
   ],
   "source": [
    "import requests\n",
    "\n",
    "url = 'http://127.0.0.1:5000/predict'\n",
    "headers = {'content-type': 'application/json'}\n",
    "r = requests.post(url, verify=False, data=json_data, headers=headers)\n"
   ]
  },
  {
   "cell_type": "code",
   "execution_count": 44,
   "metadata": {},
   "outputs": [],
   "source": [
    "def find_cluster(accident_dataset, lat, long):\n",
    "    # load all cluster accident waypoints to check against proximity\n",
    "    accident_point_counts = len(accident_dataset.index)\n",
    "    cluster = 1\n",
    "    # approximate radius of earth in km\n",
    "    R = 6373.0\n",
    "    for index, row in accident_dataset.iterrows():\n",
    "        lat = np.radians(lat)\n",
    "        lng = np.radians(long)\n",
    "        latref = row['Start_Lat']\n",
    "        lngref = row['Start_Lng']\n",
    "        dlat = lat - latref\n",
    "        dlng = lng - lngref\n",
    "        a = np.sin(dlat / 2) ** 2 + np.cos(latref) * np.cos(lat) * np.sin(dlng/ 2) ** 2\n",
    "        dist = R * (2 * np.arctan2(np.sqrt(a), np.sqrt(1 - a)))\n",
    "        \n",
    "        if (dist < 0.10):\n",
    "            cluster = row['Cluster']\n",
    "            break\n",
    "\n",
    "\n",
    "    return cluster"
   ]
  },
  {
   "cell_type": "code",
   "execution_count": 41,
   "metadata": {},
   "outputs": [],
   "source": [
    "def create_model_input(request):\n",
    "    inputdata = pd.Series(np.zeros(24), index = ['Start_Lat', 'Start_Lng', 'Cluster', 'Weekday', 'Hour', 'Date', 'Month',\n",
    "       'Sunrise_Sunset', 'Traffic_Signal', 'Station', 'Junction', 'Crossing',\n",
    "       'Temperature(F)', 'Wind_Speed(mph)', 'Pressure(in)', 'Visibility(mi)',\n",
    "       'Humidity(%)', 'cloudy', 'fog', 'overcast', 'rain', 'snow',\n",
    "       'thunderstorm', 'wind'])\n",
    "    inputdata['Cluster'] = find_cluster(accident_dataset,float(request['latitude']),float(request['longitude']))\n",
    "    inputdata['Start_Lat'] = float(request['latitude'])\n",
    "    inputdata['Start_Lng'] = float(request['longitude'])\n",
    "    inputdata['Temperature(F)'] = float(request['temp'])\n",
    "    inputdata['Pressure(in)'] = float(request['pres'])\n",
    "    inputdata['Wind_Speed(mph)'] = float(request['windspeed'])\n",
    "    inputdata['Humidity(%)'] = float(request['humi'])\n",
    "    inputdata['Visibility(mi)'] = float(request['visibility'])\n",
    "    inputdata[request['roadfeature']] = 1\n",
    "    if (request['weatherkeyword'] != 0):\n",
    "        inputdata[request['weatherkeyword']] = 1\n",
    "    \n",
    "    datetime_object = datetime.datetime.strptime(request['date'], '%d-%m-%Y %H:%M')\n",
    "    inputdata['Hour'] = datetime_object.hour\n",
    "    inputdata['Date'] = datetime_object.day\n",
    "    inputdata['Month'] = datetime_object.month\n",
    "    inputdata['Weekday'] = datetime_object.date().weekday()\n",
    "    inputdata['Sunrise_Sunset'] = 1 if datetime_object.hour < 18 and datetime_object.hour > 6 else 0\n",
    "    \n",
    "    return inputdata\n",
    "    "
   ]
  },
  {
   "cell_type": "code",
   "execution_count": 45,
   "metadata": {},
   "outputs": [],
   "source": [
    "modeinput = create_model_input(data)"
   ]
  },
  {
   "cell_type": "code",
   "execution_count": 31,
   "metadata": {},
   "outputs": [],
   "source": [
    "filename = 'C:/Users/sablo/original/CarAccidentPrediction/MyProject/FlaskAPI/accident-prediction-rfc-model.pkl'\n",
    "classifier = pickle.load(open(filename, 'rb'))"
   ]
  },
  {
   "cell_type": "code",
   "execution_count": 36,
   "metadata": {},
   "outputs": [
    {
     "data": {
      "text/plain": [
       "0"
      ]
     },
     "execution_count": 36,
     "metadata": {},
     "output_type": "execute_result"
    }
   ],
   "source": [
    "my_prediction = classifier.predict(modeinput.values.reshape(1,-1))[0]\n",
    "my_prediction"
   ]
  },
  {
   "cell_type": "code",
   "execution_count": 47,
   "metadata": {},
   "outputs": [
    {
     "data": {
      "text/plain": [
       "Start_Lat          27.87\n",
       "Start_Lng         -82.74\n",
       "Cluster             1.00\n",
       "Weekday             4.00\n",
       "Hour                7.00\n",
       "Date                2.00\n",
       "Month               8.00\n",
       "Sunrise_Sunset      1.00\n",
       "Traffic_Signal      1.00\n",
       "Station             0.00\n",
       "Junction            0.00\n",
       "Crossing            0.00\n",
       "Temperature(F)     62.10\n",
       "Wind_Speed(mph)     4.60\n",
       "Pressure(in)       30.09\n",
       "Visibility(mi)     10.00\n",
       "Humidity(%)        93.00\n",
       "cloudy              0.00\n",
       "fog                 0.00\n",
       "overcast            0.00\n",
       "rain                0.00\n",
       "snow                0.00\n",
       "thunderstorm        0.00\n",
       "wind                0.00\n",
       "dtype: float64"
      ]
     },
     "execution_count": 47,
     "metadata": {},
     "output_type": "execute_result"
    }
   ],
   "source": [
    "modeinput"
   ]
  },
  {
   "cell_type": "code",
   "execution_count": null,
   "metadata": {},
   "outputs": [],
   "source": []
  }
 ],
 "metadata": {
  "kernelspec": {
   "display_name": "Python 3",
   "language": "python",
   "name": "python3"
  },
  "language_info": {
   "codemirror_mode": {
    "name": "ipython",
    "version": 3
   },
   "file_extension": ".py",
   "mimetype": "text/x-python",
   "name": "python",
   "nbconvert_exporter": "python",
   "pygments_lexer": "ipython3",
   "version": "3.7.4"
  }
 },
 "nbformat": 4,
 "nbformat_minor": 2
}
